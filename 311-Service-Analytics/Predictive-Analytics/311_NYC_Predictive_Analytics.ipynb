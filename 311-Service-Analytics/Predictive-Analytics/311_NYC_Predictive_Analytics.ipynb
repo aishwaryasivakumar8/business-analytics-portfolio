{
  "cells": [
    {
      "cell_type": "markdown",
      "source": [
        "# **Predicting SLA Violations with Machine Learning**\n",
        "\n",
        "---\n",
        "\n",
        "This notebook predicts which service requests might breach their Service Level Agreement (SLA). It uses the cleaned data from the data cleaning notebook, runs baseline models to identify the best approach, and performs model tuning and training to evaluate performance."
      ],
      "metadata": {
        "id": "rgrsydQc0ca_"
      }
    },
    {
      "cell_type": "markdown",
      "metadata": {
        "id": "KmjhO1f0Z_70"
      },
      "source": [
        "## **Loading Data**"
      ]
    },
    {
      "cell_type": "code",
      "execution_count": null,
      "metadata": {
        "id": "VOtNh29HFgh1"
      },
      "outputs": [],
      "source": [
        "import pandas as pd\n",
        "import numpy as np\n",
        "\n",
        "# Load cleaned data\n",
        "data = pd.read_csv('/content/NYC 311 Cleaned Data.csv', low_memory = False)"
      ]
    },
    {
      "cell_type": "markdown",
      "metadata": {
        "id": "q0leZwbDaQDY"
      },
      "source": [
        "## **Preparing Data**"
      ]
    },
    {
      "cell_type": "code",
      "source": [
        "data.isna().sum()"
      ],
      "metadata": {
        "colab": {
          "base_uri": "https://localhost:8080/",
          "height": 889
        },
        "id": "ap7WxWTSRg9c",
        "outputId": "b129b025-14f1-4a1b-fd78-a544d1b2b7da"
      },
      "execution_count": null,
      "outputs": [
        {
          "output_type": "execute_result",
          "data": {
            "text/plain": [
              "Unique Key                     0\n",
              "Created Date                   0\n",
              "Closed Date                    0\n",
              "Agency                         0\n",
              "Complaint Type                 0\n",
              "Descriptor                 82570\n",
              "Location Type             389918\n",
              "Incident Zip               23542\n",
              "Address Type               12179\n",
              "Status                         0\n",
              "Borough                        0\n",
              "Open Data Channel Type         0\n",
              "Latitude                   43921\n",
              "Longitude                  43921\n",
              "Location Group                 0\n",
              "Resolution Time                0\n",
              "Time of Day                    0\n",
              "Day of Week                    0\n",
              "Month                          0\n",
              "Day & Time                     0\n",
              "Borough Agency                 0\n",
              "Borough Location               0\n",
              "Requests Past Week             0\n",
              "SLA Hours                 572776\n",
              "Complaint Type Grouped         0\n",
              "Location Type Grouped          0\n",
              "dtype: int64"
            ],
            "text/html": [
              "<div>\n",
              "<style scoped>\n",
              "    .dataframe tbody tr th:only-of-type {\n",
              "        vertical-align: middle;\n",
              "    }\n",
              "\n",
              "    .dataframe tbody tr th {\n",
              "        vertical-align: top;\n",
              "    }\n",
              "\n",
              "    .dataframe thead th {\n",
              "        text-align: right;\n",
              "    }\n",
              "</style>\n",
              "<table border=\"1\" class=\"dataframe\">\n",
              "  <thead>\n",
              "    <tr style=\"text-align: right;\">\n",
              "      <th></th>\n",
              "      <th>0</th>\n",
              "    </tr>\n",
              "  </thead>\n",
              "  <tbody>\n",
              "    <tr>\n",
              "      <th>Unique Key</th>\n",
              "      <td>0</td>\n",
              "    </tr>\n",
              "    <tr>\n",
              "      <th>Created Date</th>\n",
              "      <td>0</td>\n",
              "    </tr>\n",
              "    <tr>\n",
              "      <th>Closed Date</th>\n",
              "      <td>0</td>\n",
              "    </tr>\n",
              "    <tr>\n",
              "      <th>Agency</th>\n",
              "      <td>0</td>\n",
              "    </tr>\n",
              "    <tr>\n",
              "      <th>Complaint Type</th>\n",
              "      <td>0</td>\n",
              "    </tr>\n",
              "    <tr>\n",
              "      <th>Descriptor</th>\n",
              "      <td>82570</td>\n",
              "    </tr>\n",
              "    <tr>\n",
              "      <th>Location Type</th>\n",
              "      <td>389918</td>\n",
              "    </tr>\n",
              "    <tr>\n",
              "      <th>Incident Zip</th>\n",
              "      <td>23542</td>\n",
              "    </tr>\n",
              "    <tr>\n",
              "      <th>Address Type</th>\n",
              "      <td>12179</td>\n",
              "    </tr>\n",
              "    <tr>\n",
              "      <th>Status</th>\n",
              "      <td>0</td>\n",
              "    </tr>\n",
              "    <tr>\n",
              "      <th>Borough</th>\n",
              "      <td>0</td>\n",
              "    </tr>\n",
              "    <tr>\n",
              "      <th>Open Data Channel Type</th>\n",
              "      <td>0</td>\n",
              "    </tr>\n",
              "    <tr>\n",
              "      <th>Latitude</th>\n",
              "      <td>43921</td>\n",
              "    </tr>\n",
              "    <tr>\n",
              "      <th>Longitude</th>\n",
              "      <td>43921</td>\n",
              "    </tr>\n",
              "    <tr>\n",
              "      <th>Location Group</th>\n",
              "      <td>0</td>\n",
              "    </tr>\n",
              "    <tr>\n",
              "      <th>Resolution Time</th>\n",
              "      <td>0</td>\n",
              "    </tr>\n",
              "    <tr>\n",
              "      <th>Time of Day</th>\n",
              "      <td>0</td>\n",
              "    </tr>\n",
              "    <tr>\n",
              "      <th>Day of Week</th>\n",
              "      <td>0</td>\n",
              "    </tr>\n",
              "    <tr>\n",
              "      <th>Month</th>\n",
              "      <td>0</td>\n",
              "    </tr>\n",
              "    <tr>\n",
              "      <th>Day &amp; Time</th>\n",
              "      <td>0</td>\n",
              "    </tr>\n",
              "    <tr>\n",
              "      <th>Borough Agency</th>\n",
              "      <td>0</td>\n",
              "    </tr>\n",
              "    <tr>\n",
              "      <th>Borough Location</th>\n",
              "      <td>0</td>\n",
              "    </tr>\n",
              "    <tr>\n",
              "      <th>Requests Past Week</th>\n",
              "      <td>0</td>\n",
              "    </tr>\n",
              "    <tr>\n",
              "      <th>SLA Hours</th>\n",
              "      <td>572776</td>\n",
              "    </tr>\n",
              "    <tr>\n",
              "      <th>Complaint Type Grouped</th>\n",
              "      <td>0</td>\n",
              "    </tr>\n",
              "    <tr>\n",
              "      <th>Location Type Grouped</th>\n",
              "      <td>0</td>\n",
              "    </tr>\n",
              "  </tbody>\n",
              "</table>\n",
              "</div><br><label><b>dtype:</b> int64</label>"
            ]
          },
          "metadata": {},
          "execution_count": 10
        }
      ]
    },
    {
      "cell_type": "code",
      "execution_count": null,
      "metadata": {
        "id": "8jjzVXtkDwlI"
      },
      "outputs": [],
      "source": [
        "# Remove rows with null values\n",
        "data = data.dropna(subset = ['Latitude', 'Longitude', 'Location Type', 'SLA Hours', 'Address Type'])"
      ]
    },
    {
      "cell_type": "code",
      "execution_count": null,
      "metadata": {
        "colab": {
          "base_uri": "https://localhost:8080/"
        },
        "id": "bolrC6Flw-aJ",
        "outputId": "f27366d5-ba9a-4d36-e810-f17f6419c605"
      },
      "outputs": [
        {
          "output_type": "stream",
          "name": "stdout",
          "text": [
            "SLA Breach\n",
            "0    0.777295\n",
            "1    0.222705\n",
            "Name: proportion, dtype: float64\n"
          ]
        }
      ],
      "source": [
        "# Create 'SLA Breach' target variable\n",
        "data['SLA Breach'] = (data['Resolution Time'] > data['SLA Hours']).astype(int)\n",
        "\n",
        "# Distribution of target variable\n",
        "print(data['SLA Breach'].value_counts(normalize = True))"
      ]
    },
    {
      "cell_type": "code",
      "source": [
        "data.info()"
      ],
      "metadata": {
        "colab": {
          "base_uri": "https://localhost:8080/"
        },
        "id": "T8EC-UnLRbmD",
        "outputId": "c3438d27-bf52-4de8-df30-6adf065b2900"
      },
      "execution_count": null,
      "outputs": [
        {
          "output_type": "stream",
          "name": "stdout",
          "text": [
            "<class 'pandas.core.frame.DataFrame'>\n",
            "Index: 2568496 entries, 0 to 3343291\n",
            "Data columns (total 27 columns):\n",
            " #   Column                  Dtype  \n",
            "---  ------                  -----  \n",
            " 0   Unique Key              int64  \n",
            " 1   Created Date            object \n",
            " 2   Closed Date             object \n",
            " 3   Agency                  object \n",
            " 4   Complaint Type          object \n",
            " 5   Descriptor              object \n",
            " 6   Location Type           object \n",
            " 7   Incident Zip            float64\n",
            " 8   Address Type            object \n",
            " 9   Status                  object \n",
            " 10  Borough                 object \n",
            " 11  Open Data Channel Type  object \n",
            " 12  Latitude                float64\n",
            " 13  Longitude               float64\n",
            " 14  Location Group          object \n",
            " 15  Resolution Time         float64\n",
            " 16  Time of Day             object \n",
            " 17  Day of Week             object \n",
            " 18  Month                   object \n",
            " 19  Day & Time              object \n",
            " 20  Borough Agency          object \n",
            " 21  Borough Location        object \n",
            " 22  Requests Past Week      int64  \n",
            " 23  SLA Hours               float64\n",
            " 24  Complaint Type Grouped  object \n",
            " 25  Location Type Grouped   object \n",
            " 26  SLA Breach              int64  \n",
            "dtypes: float64(5), int64(3), object(19)\n",
            "memory usage: 548.7+ MB\n"
          ]
        }
      ]
    },
    {
      "cell_type": "markdown",
      "source": [
        "## **Preprocessing**"
      ],
      "metadata": {
        "id": "vMDm21qoPZ__"
      }
    },
    {
      "cell_type": "code",
      "execution_count": null,
      "metadata": {
        "id": "bm-Nwncq_dCv"
      },
      "outputs": [],
      "source": [
        "from sklearn.model_selection import train_test_split\n",
        "\n",
        "data['Created Date'] = pd.to_datetime(data['Created Date'])\n",
        "data = data[data['Created Date'] >= '2024-08-08']\n",
        "\n",
        "# Filter input and target variables\n",
        "data = data[['Borough', 'Agency', 'Borough Agency', 'Borough Location',\n",
        "             'Location Type Grouped', 'Complaint Type Grouped',\n",
        "             'Latitude', 'Longitude', 'Address Type', 'Open Data Channel Type',\n",
        "             'Month', 'Day & Time', 'Time of Day', 'Day of Week',\n",
        "             'Requests Past Week',  'SLA Breach']]\n",
        "\n",
        "# Sample rows stratified by target\n",
        "df_sample, _ = train_test_split(data,\n",
        "                               train_size = 50000,\n",
        "                               stratify = data['SLA Breach'],\n",
        "                               random_state = 25)\n",
        "\n",
        "\n",
        "# Train and test set split\n",
        "train_df, test_df = train_test_split(\n",
        "    df_sample,\n",
        "    test_size = 0.2,\n",
        "    stratify = df_sample['SLA Breach'],\n",
        "    random_state=25\n",
        ")"
      ]
    },
    {
      "cell_type": "code",
      "execution_count": null,
      "metadata": {
        "id": "kw3YmrYxJpSW"
      },
      "outputs": [],
      "source": [
        "# Split input and target variables\n",
        "feature_cols = ['Borough', 'Agency', 'Borough Agency', 'Borough Location',\n",
        "                'Location Type Grouped', 'Complaint Type Grouped', 'Latitude',\n",
        "                'Longitude', 'Address Type', 'Open Data Channel Type', 'Month',\n",
        "                'Day & Time', 'Time of Day', 'Day of Week', 'Requests Past Week']\n",
        "\n",
        "x_train = train_df[feature_cols]\n",
        "y_train = train_df['SLA Breach']\n",
        "\n",
        "x_test = test_df[feature_cols]\n",
        "y_test = test_df['SLA Breach']\n",
        "\n",
        "# Numeric and categorical features\n",
        "num_features = ['Requests Past Week', 'Latitude', 'Longitude']\n",
        "cat_features = [col for col in feature_cols if col not in num_features]"
      ]
    },
    {
      "cell_type": "code",
      "source": [
        "from sklearn.compose import ColumnTransformer\n",
        "from sklearn.preprocessing import StandardScaler, OneHotEncoder, OrdinalEncoder\n",
        "\n",
        "# Preprocessing pipelines\n",
        "preprocessor_lr_nn = ColumnTransformer(\n",
        "    transformers = [\n",
        "        (\"num\", StandardScaler(), num_features),\n",
        "        (\"cat\", OneHotEncoder(handle_unknown = 'ignore'), cat_features)\n",
        "    ]\n",
        ")\n",
        "\n",
        "preprocessor_tree = ColumnTransformer(\n",
        "    transformers = [\n",
        "        (\"num\", \"passthrough\", num_features),\n",
        "        (\"cat\", OrdinalEncoder(handle_unknown = 'use_encoded_value', unknown_value = -1), cat_features)\n",
        "    ]\n",
        ")"
      ],
      "metadata": {
        "id": "E6L8OiOzAgXA"
      },
      "execution_count": null,
      "outputs": []
    },
    {
      "cell_type": "markdown",
      "metadata": {
        "id": "6QqHqktBl0jm"
      },
      "source": [
        "## **Testing Baseline Models with 3-fold Cross Validation**"
      ]
    },
    {
      "cell_type": "code",
      "source": [
        "from sklearn.linear_model import LogisticRegression\n",
        "from sklearn.neural_network import MLPClassifier\n",
        "from sklearn.tree import DecisionTreeClassifier\n",
        "from sklearn.ensemble import RandomForestClassifier\n",
        "from xgboost import XGBClassifier\n",
        "from imblearn.pipeline import Pipeline\n",
        "from imblearn.over_sampling import SMOTENC\n",
        "from sklearn.model_selection import cross_validate"
      ],
      "metadata": {
        "id": "VRPVjd0XA7tu"
      },
      "execution_count": null,
      "outputs": []
    },
    {
      "cell_type": "code",
      "execution_count": null,
      "metadata": {
        "colab": {
          "base_uri": "https://localhost:8080/"
        },
        "id": "7SURlvpjd8dW",
        "outputId": "a156e301-161e-44a5-f5de-3b1489da86dd"
      },
      "outputs": [
        {
          "output_type": "stream",
          "name": "stdout",
          "text": [
            "Running 3 fold CV with SMOTE NC for class imbalance\n",
            "\n",
            "Logistic Regression results:\n",
            "  Train Accuracy: 0.7944\n",
            "  Validation Accuracy: 0.7926\n",
            "  Train F1 Macro: 0.7369\n",
            "  Validation F1 Macro: 0.7346\n",
            "\n",
            "Neural Network results:\n",
            "  Train Accuracy: 0.9264\n",
            "  Validation Accuracy: 0.8101\n",
            "  Train F1 Macro: 0.8939\n",
            "  Validation F1 Macro: 0.7295\n",
            "\n",
            "Decision Tree results:\n",
            "  Train Accuracy: 0.9999\n",
            "  Validation Accuracy: 0.7857\n",
            "  Train F1 Macro: 0.9998\n",
            "  Validation F1 Macro: 0.7108\n",
            "\n",
            "Random Forest results:\n",
            "  Train Accuracy: 0.9999\n",
            "  Validation Accuracy: 0.8424\n",
            "  Train F1 Macro: 0.9998\n",
            "  Validation F1 Macro: 0.7750\n",
            "\n",
            "XGBoost results:\n",
            "  Train Accuracy: 0.8828\n",
            "  Validation Accuracy: 0.8407\n",
            "  Train F1 Macro: 0.8316\n",
            "  Validation F1 Macro: 0.7714\n"
          ]
        }
      ],
      "source": [
        "# Baseline models\n",
        "models = {\n",
        "    \"Logistic Regression\": (LogisticRegression(), preprocessor_lr_nn),\n",
        "    \"Neural Network\": (MLPClassifier(random_state = 25), preprocessor_lr_nn),\n",
        "    \"Decision Tree\": (DecisionTreeClassifier(random_state = 25), preprocessor_tree),\n",
        "    \"Random Forest\": (RandomForestClassifier(random_state = 25), preprocessor_tree),\n",
        "    \"XGBoost\": (XGBClassifier(use_label_encoder = False, eval_metric = 'logloss', random_state = 25, enable_categorical = True), preprocessor_tree)\n",
        "}\n",
        "\n",
        "results = {}\n",
        "\n",
        "# Cross validation for baseline models\n",
        "print(\"Running 3 fold CV with SMOTE NC for class imbalance\")\n",
        "for name, (model, preprocessor) in models.items():\n",
        "\n",
        "    try:\n",
        "        pipeline = Pipeline([\n",
        "            ('smote', SMOTENC(categorical_features = [x_train.columns.get_loc(c) for c in cat_features], random_state = 25)),\n",
        "            ('preprocessor', preprocessor),\n",
        "            ('classifier', model)\n",
        "        ])\n",
        "\n",
        "        cv = cross_validate(\n",
        "            pipeline, x_train, y_train,\n",
        "            cv = 3,\n",
        "            scoring = ['accuracy', 'f1_macro'],\n",
        "            return_train_score = True,\n",
        "            n_jobs = -1\n",
        "        )\n",
        "\n",
        "        results[name] = {\n",
        "            'mean_train_accuracy': np.mean(cv['train_accuracy']),\n",
        "            'mean_val_accuracy': np.mean(cv['test_accuracy']),\n",
        "            'mean_train_f1_macro': np.mean(cv['train_f1_macro']),\n",
        "            'mean_val_f1_macro': np.mean(cv['test_f1_macro']),\n",
        "        }\n",
        "\n",
        "    except Exception as e:\n",
        "        print(f\"Error processing {name}: {e}\")\n",
        "        results[name] = {'error': str(e)}\n",
        "\n",
        "# Results\n",
        "for name, res in results.items():\n",
        "    print(f\"\\n{name} results:\")\n",
        "    if 'error' in res:\n",
        "        print(f\"Error: {res['error']}\")\n",
        "    else:\n",
        "        print(f\"  Train Accuracy: {res['mean_train_accuracy']:.4f}\")\n",
        "        print(f\"  Validation Accuracy: {res['mean_val_accuracy']:.4f}\")\n",
        "        print(f\"  Train F1 Macro: {res['mean_train_f1_macro']:.4f}\")\n",
        "        print(f\"  Validation F1 Macro: {res['mean_val_f1_macro']:.4f}\")"
      ]
    },
    {
      "cell_type": "markdown",
      "metadata": {
        "id": "YiCb4St0lrpw"
      },
      "source": [
        "## **XGBoost Modeling**"
      ]
    },
    {
      "cell_type": "markdown",
      "source": [
        "### **Hyperparameter Tuning with Randomzied Search & Cross Validation**"
      ],
      "metadata": {
        "id": "9Z-SgrPEy60Z"
      }
    },
    {
      "cell_type": "code",
      "execution_count": null,
      "metadata": {
        "colab": {
          "base_uri": "https://localhost:8080/"
        },
        "id": "kqQVr2ARWDOd",
        "outputId": "74156150-8382-4c10-ce40-20f969707c83"
      },
      "outputs": [
        {
          "output_type": "stream",
          "name": "stdout",
          "text": [
            "Running hyperparameter tuning with Randomized Search CV\n",
            "Fitting 5 folds for each of 30 candidates, totalling 150 fits\n",
            "\n",
            "Best parameters:\n",
            "{'classifier__subsample': 0.8, 'classifier__n_estimators': 200, 'classifier__max_depth': 7, 'classifier__learning_rate': 0.1}\n"
          ]
        }
      ],
      "source": [
        "from sklearn.model_selection import StratifiedKFold, RandomizedSearchCV\n",
        "\n",
        "### Prepare data with preprocessed features\n",
        "x_train_processed = preprocessor_tree.fit_transform(x_train)\n",
        "x_test_processed = preprocessor_tree.transform(x_test)\n",
        "\n",
        "# Find indices of categorical features in the preprocessed features for SMOTE NC\n",
        "preprocessed_features = preprocessor_tree.get_feature_names_out()\n",
        "cat_indices = [i for i, name in enumerate(preprocessed_features) if name.startswith('cat__')]\n",
        "\n",
        "### Pipeline with SMOTENC and XGBClassifier\n",
        "pipeline = Pipeline([\n",
        "       ('smote', SMOTENC(categorical_features = cat_indices, random_state = 25)),\n",
        "       ('classifier', XGBClassifier(\n",
        "           eval_metric = 'logloss',\n",
        "           n_jobs = -1,\n",
        "           random_state = 25,\n",
        "           enable_categorical = True,\n",
        "       ))\n",
        "])\n",
        "\n",
        "### Define hyperparameter search space for Randomized Search\n",
        "random_parameters = {\n",
        "       \"classifier__n_estimators\": [100, 200, 300],\n",
        "       \"classifier__max_depth\": [3, 5, 7],\n",
        "       \"classifier__learning_rate\": [0.01, 0.05, 0.1],\n",
        "       \"classifier__subsample\": [0.8, 1.0]\n",
        "}\n",
        "\n",
        "### RandomizedSearch with 5-fold stratified CV\n",
        "random_search = RandomizedSearchCV(\n",
        "       estimator = pipeline,\n",
        "       param_distributions = random_parameters,\n",
        "       n_iter = 30,\n",
        "       scoring = {'accuracy': 'accuracy', 'f1_macro': 'f1_macro'},\n",
        "       refit = 'f1_macro',\n",
        "       cv = StratifiedKFold(5, shuffle = True, random_state = 25),\n",
        "       n_jobs = -1,\n",
        "       verbose = 2,\n",
        "       return_train_score = True,\n",
        "       random_state = 25\n",
        ")\n",
        "\n",
        "### Fit RandomizedSearchCV on preprocessed data and target\n",
        "print(\"Running hyperparameter tuning with Randomized Search CV\")\n",
        "random_search.fit(x_train_processed, y_train)\n",
        "\n",
        "print(\"\\nBest parameters:\")\n",
        "print(random_search.best_params_)\n"
      ]
    },
    {
      "cell_type": "markdown",
      "metadata": {
        "id": "McUoavjy8ol7"
      },
      "source": [
        "### **Evaluating & Testing the Final Model**"
      ]
    },
    {
      "cell_type": "code",
      "execution_count": null,
      "metadata": {
        "colab": {
          "base_uri": "https://localhost:8080/"
        },
        "id": "520fc1e3",
        "outputId": "135b49c1-5eb6-481a-fe55-3de40953d696"
      },
      "outputs": [
        {
          "output_type": "stream",
          "name": "stdout",
          "text": [
            "\n",
            "Fitting the best pipeline using the full training data\n",
            "Training complete.\n"
          ]
        }
      ],
      "source": [
        "### Select the best estimator\n",
        "best_pipeline = random_search.best_estimator_\n",
        "\n",
        "print(\"\\nFitting the best pipeline using the full training data\")\n",
        "best_pipeline.fit(x_train_processed, y_train)\n",
        "\n",
        "print(\"Training complete.\")"
      ]
    },
    {
      "cell_type": "code",
      "metadata": {
        "colab": {
          "base_uri": "https://localhost:8080/",
          "height": 409
        },
        "id": "556e06d3",
        "outputId": "0b74b7a2-4bc4-40a1-baa5-93f88f146eff"
      },
      "source": [
        "from sklearn.metrics import accuracy_score, f1_score, confusion_matrix\n",
        "import matplotlib.pyplot as plt\n",
        "import seaborn as sns\n",
        "\n",
        "### Evaluate the best pipeline on the full training and test sets.\n",
        "print(\"Evaluating the trained model on all features\")\n",
        "\n",
        "# ----- Training evaluation -----\n",
        "print(\"\\nTraining set performance\")\n",
        "y_pred_train_all = best_pipeline.predict(x_train_processed)\n",
        "train_accuracy_all = accuracy_score(y_train, y_pred_train_all)\n",
        "train_f1_macro_all = f1_score(y_train, y_pred_train_all, average = 'macro')\n",
        "print(f\"Training Accuracy: {train_accuracy_all:.4f}\")\n",
        "print(f\"Training F1 Score: {train_f1_macro_all:.4f}\")\n",
        "\n",
        "# ----- Test evaluation -----\n",
        "print(\"\\nTest set performance\")\n",
        "y_pred_test_all = best_pipeline.predict(x_test_processed)\n",
        "test_accuracy_all = accuracy_score(y_test, y_pred_test_all)\n",
        "test_f1_macro_all = f1_score(y_test, y_pred_test_all, average = 'macro')\n",
        "print(f\"Test Accuracy: {test_accuracy_all:.4f}\")\n",
        "print(f\"Test F1 Macro: {test_f1_macro_all:.4f}\")\n",
        "\n",
        "cm_test_all = confusion_matrix(y_test, y_pred_test_all)\n",
        "plt.figure(figsize = (4, 2))\n",
        "sns.heatmap(cm_test_all, annot = True, fmt = 'd', cmap = 'Blues',\n",
        "            xticklabels = ['Predicted 0', 'Predicted 1'],\n",
        "            yticklabels = ['Actual 0', 'Actual 1'])\n",
        "plt.title('Confusion Matrix - Test Set')\n",
        "plt.xlabel('Predicted Label')\n",
        "plt.ylabel('Actual Label')\n",
        "plt.show()"
      ],
      "execution_count": null,
      "outputs": [
        {
          "output_type": "stream",
          "name": "stdout",
          "text": [
            "Evaluating the trained model on all features\n",
            "\n",
            "Training set performance\n",
            "Training Accuracy: 0.8777\n",
            "Training F1 Score: 0.8251\n",
            "\n",
            "Test set performance\n",
            "Test Accuracy: 0.8492\n",
            "Test F1 Macro: 0.7851\n"
          ]
        },
        {
          "output_type": "display_data",
          "data": {
            "text/plain": [
              "<Figure size 400x200 with 2 Axes>"
            ],
            "image/png": "[encoded data removed]"
          },
          "metadata": {}
        }
      ]
    },
    {
      "cell_type": "markdown",
      "source": [
        "### **Feature Selection Based on Permutation Importance**"
      ],
      "metadata": {
        "id": "jq12rNWjyIQz"
      }
    },
    {
      "cell_type": "code",
      "execution_count": null,
      "metadata": {
        "id": "z6Y2H-5fMqt2",
        "colab": {
          "base_uri": "https://localhost:8080/",
          "height": 870
        },
        "outputId": "407233ad-17f0-4669-c3ec-992d21faba2f"
      },
      "outputs": [
        {
          "output_type": "stream",
          "name": "stdout",
          "text": [
            "\n",
            "Permutation Importance\n",
            "                        Feature  Importance\n",
            "5           cat__Borough Agency    0.241383\n",
            "6         cat__Borough Location    0.220163\n",
            "3                  cat__Borough    0.206362\n",
            "12              cat__Day & Time    0.202939\n",
            "14             cat__Day of Week    0.182748\n",
            "4                   cat__Agency    0.168179\n",
            "1                 num__Latitude    0.159606\n",
            "2                num__Longitude    0.090845\n",
            "8   cat__Complaint Type Grouped    0.088989\n",
            "7    cat__Location Type Grouped    0.040857\n",
            "0       num__Requests Past Week    0.038655\n",
            "13             cat__Time of Day    0.027139\n",
            "11                   cat__Month    0.017018\n",
            "10  cat__Open Data Channel Type    0.001847\n",
            "9             cat__Address Type    0.001282\n"
          ]
        },
        {
          "output_type": "display_data",
          "data": {
            "text/plain": [
              "<Figure size 1000x600 with 1 Axes>"
            ],
            "image/png": "[encoded data removed]"
          },
          "metadata": {}
        }
      ],
      "source": [
        "from sklearn.inspection import permutation_importance\n",
        "\n",
        "### Permutation importance\n",
        "# Calculate on preprocessed test data\n",
        "permutation_i = permutation_importance(\n",
        "       best_pipeline.named_steps['classifier'], x_test_processed, y_test,\n",
        "       scoring = 'f1_macro', n_repeats = 10, random_state = 25, n_jobs = -1\n",
        ")\n",
        "\n",
        "# Names of full preprocessed data\n",
        "processed_features = preprocessor_tree.get_feature_names_out()\n",
        "\n",
        "# Processed features and permutation importance in a dataframe\n",
        "importances_df = pd.DataFrame({\n",
        "       'Feature': processed_features,\n",
        "       'Importance': permutation_i.importances_mean\n",
        "}).sort_values(by = 'Importance', ascending = False)\n",
        "\n",
        "print(\"\\nPermutation Importance\")\n",
        "print(importances_df)\n",
        "\n",
        "# Bar chart of permutation importance\n",
        "plt.figure(figsize = (10, 6))\n",
        "plt.barh(importances_df['Feature'], importances_df['Importance'])\n",
        "plt.gca().invert_yaxis()\n",
        "plt.xlabel(\"Importance (Mean F1 Decrease)\")\n",
        "plt.ylabel(\"Feature\")\n",
        "plt.title(\"Permutation Importance from Trained Model\")\n",
        "plt.show()"
      ]
    },
    {
      "cell_type": "code",
      "metadata": {
        "colab": {
          "base_uri": "https://localhost:8080/",
          "height": 511
        },
        "id": "7c071879",
        "outputId": "abbfcb81-099e-4b85-a007-58384b99a7b5"
      },
      "source": [
        "### Feature selection by permutation importance threshold\n",
        "threshold = 0.02\n",
        "\n",
        "final_selected_features_mask = permutation_i.importances_mean >= threshold\n",
        "final_selected_feature_names = processed_features[final_selected_features_mask]\n",
        "\n",
        "print(f\"Selected features based on permutation importance threshold ({threshold}):\")\n",
        "print(final_selected_feature_names)\n",
        "\n",
        "# Slice training and test sets based on the selected features\n",
        "x_train_final = x_train_processed[:, final_selected_features_mask]\n",
        "x_test_final  = x_test_processed[:, final_selected_features_mask]\n",
        "\n",
        "# Indices of categorical features from selected features\n",
        "final_cat_indices = [i for i, name in enumerate(final_selected_feature_names) if name.startswith('cat__')]\n",
        "\n",
        "# Extract best classifier parameters from best_pipeline\n",
        "best_params = random_search.best_params_\n",
        "best_classifier_params = {key.replace('classifier__', ''): value for key, value in best_params.items() if key.startswith('classifier__')}\n",
        "\n",
        "# Train final model with best hyperparameters on selected features\n",
        "final_model_pipeline = Pipeline([\n",
        "    ('smote', SMOTENC(categorical_features = final_cat_indices, random_state = 25)),\n",
        "    ('classifier', XGBClassifier(\n",
        "        eval_metric = 'logloss',\n",
        "        n_jobs = -1,\n",
        "        random_state = 25,\n",
        "        **best_classifier_params\n",
        "    ))\n",
        "])\n",
        "\n",
        "### Training final model on selected features\n",
        "final_model_pipeline.fit(x_train_final, y_train)\n",
        "\n",
        "print(\"\\nEvaluating trained model on features selected by permutation importance\")\n",
        "\n",
        "# ----- Training evaluation -----\n",
        "print(\"\\nTraining set performance\")\n",
        "y_pred_train = final_model_pipeline.predict(x_train_final)\n",
        "train_accuracy = accuracy_score(y_train, y_pred_train)\n",
        "train_f1_macro = f1_score(y_train, y_pred_train, average = 'macro')\n",
        "print(f\"Training Accuracy: {train_accuracy:.4f}\")\n",
        "print(f\"Training F1 Score: {train_f1_macro:.4f}\")\n",
        "\n",
        "# ----- Test evaluation -----\n",
        "print(\"\\nTest set performance\")\n",
        "y_pred_test = final_model_pipeline.predict(x_test_final)\n",
        "test_accuracy = accuracy_score(y_test, y_pred_test)\n",
        "test_f1_macro = f1_score(y_test, y_pred_test, average = 'macro')\n",
        "print(f\"Test Accuracy: {test_accuracy:.4f}\")\n",
        "print(f\"Test F1 Macro: {test_f1_macro:.4f}\")\n",
        "\n",
        "cm_test = confusion_matrix(y_test, y_pred_test)\n",
        "plt.figure(figsize = (4, 2))\n",
        "sns.heatmap(cm_test, annot = True, fmt = 'd', cmap = 'Blues',\n",
        "            xticklabels = ['Predicted 0', 'Predicted 1'],\n",
        "            yticklabels = ['Actual 0', 'Actual 1'])\n",
        "plt.title('Confusion Matrix - Test Set')\n",
        "plt.xlabel('Predicted Label')\n",
        "plt.ylabel('Actual Label')\n",
        "plt.show()"
      ],
      "execution_count": null,
      "outputs": [
        {
          "output_type": "stream",
          "name": "stdout",
          "text": [
            "Selected features based on permutation importance threshold (0.02):\n",
            "['num__Requests Past Week' 'num__Latitude' 'num__Longitude' 'cat__Borough'\n",
            " 'cat__Agency' 'cat__Borough Agency' 'cat__Borough Location'\n",
            " 'cat__Location Type Grouped' 'cat__Complaint Type Grouped'\n",
            " 'cat__Day & Time' 'cat__Time of Day' 'cat__Day of Week']\n",
            "\n",
            "Evaluating trained model on features selected by permutation importance\n",
            "\n",
            "Training set performance\n",
            "Training Accuracy: 0.8681\n",
            "Training F1 Score: 0.8109\n",
            "\n",
            "Test set performance\n",
            "Test Accuracy: 0.8413\n",
            "Test F1 Macro: 0.7746\n"
          ]
        },
        {
          "output_type": "display_data",
          "data": {
            "text/plain": [
              "<Figure size 400x200 with 2 Axes>"
            ],
            "image/png": "[encoded data removed]"
          },
          "metadata": {}
        }
      ]
    },
    {
      "cell_type": "markdown",
      "source": [
        "### **Threshold Tuning to Optimize F1 Score**"
      ],
      "metadata": {
        "id": "ZkLuXhyRxRh7"
      }
    },
    {
      "cell_type": "code",
      "source": [
        "### Threshold tuning\n",
        "# Predicted probabilities for positive class\n",
        "#y_probs_test = final_model_pipeline.predict_proba(x_test_final)[:, 1]\n",
        "\n",
        "cv = StratifiedKFold(n_splits=5, shuffle=True, random_state=42)\n",
        "\n",
        "thresholds = np.linspace(0, 1, 101)\n",
        "mean_f1_scores = []\n",
        "\n",
        "# Loop through thresholds\n",
        "for t in thresholds:\n",
        "    f1_cv_scores = []\n",
        "\n",
        "    for train_idx, val_idx in cv.split(x_train_processed, y_train):\n",
        "        x_tr, x_val = x_train_processed[train_idx], x_train_processed[val_idx]\n",
        "        y_tr, y_val = y_train.iloc[train_idx], y_train.iloc[val_idx]\n",
        "\n",
        "        # Train on train split\n",
        "        model = final_model_pipeline.fit(x_tr, y_tr)\n",
        "\n",
        "        # Predict probabilities\n",
        "        y_probs_val = model.predict_proba(x_val)[:, 1]\n",
        "        y_pred_val = (y_probs_val >= t).astype(int)\n",
        "\n",
        "        # Save F1 for this fold\n",
        "        f1_cv_scores.append(f1_score(y_val, y_pred_val, average=\"macro\"))\n",
        "\n",
        "    # Store mean F1 for this threshold\n",
        "    mean_f1_scores.append(np.mean(f1_cv_scores))\n",
        "\n",
        "# Find best threshold\n",
        "best_idx = np.argmax(mean_f1_scores)\n",
        "best_threshold = thresholds[best_idx]\n",
        "best_f1 = mean_f1_scores[best_idx]\n",
        "\n",
        "# Plot F1 vs Threshold\n",
        "plt.figure(figsize = (8,5))\n",
        "plt.plot(thresholds, mean_f1_scores, marker = 'o', linestyle = '-', linewidth = 1, markersize = 3)\n",
        "plt.xlabel('Threshold')\n",
        "plt.ylabel('F1 Score')\n",
        "plt.title('F1 Score vs Probability Threshold')\n",
        "plt.grid(True)\n",
        "plt.show()\n",
        "\n",
        "# Best threshold\n",
        "best_idx = np.argmax(mean_f1_scores)\n",
        "best_threshold = thresholds[best_idx]\n",
        "best_f1 = mean_f1_scores[best_idx]\n",
        "\n",
        "print(f\"Best threshold: {best_threshold:.3f}, F1: {best_f1:.4f}\")\n"
      ],
      "metadata": {
        "colab": {
          "base_uri": "https://localhost:8080/",
          "height": 504
        },
        "id": "7cZ3dQrDBk15",
        "outputId": "09f10de1-870f-47d0-bf61-98701c7be879"
      },
      "execution_count": null,
      "outputs": [
        {
          "output_type": "display_data",
          "data": {
            "text/plain": [
              "<Figure size 800x500 with 1 Axes>"
            ],
            "image/png": "[encoded data removed]"
          },
          "metadata": {}
        },
        {
          "output_type": "stream",
          "name": "stdout",
          "text": [
            "Best threshold: 0.440, F1: 0.7764\n"
          ]
        }
      ]
    },
    {
      "cell_type": "code",
      "source": [
        "### Best threshold to evaluate\n",
        "print(\"\\nEvaluating trained model using optimal probability threshold\")\n",
        "\n",
        "# ----- Training evaluation -----\n",
        "print(\"\\nTraining set performance\")\n",
        "y_pred_train = (final_model_pipeline.predict_proba(x_train_final)[:, 1] >= best_threshold).astype(int)\n",
        "train_accuracy = accuracy_score(y_train, y_pred_train)\n",
        "train_f1_macro = f1_score(y_train, y_pred_train, average = 'macro')\n",
        "print(f\"Training Accuracy: {train_accuracy:.4f}\")\n",
        "print(f\"Training F1 Score: {train_f1_macro:.4f}\")\n",
        "\n",
        "# ----- Test evaluation -----\n",
        "print(\"\\nTest set performance\")\n",
        "y_pred_test = (final_model_pipeline.predict_proba(x_test_final)[:, 1] >= best_threshold).astype(int)\n",
        "test_accuracy = accuracy_score(y_test, y_pred_test)\n",
        "test_f1_macro = f1_score(y_test, y_pred_test, average = 'macro')\n",
        "print(f\"Test Accuracy: {test_accuracy:.4f}\")\n",
        "print(f\"Test F1 Macro: {test_f1_macro:.4f}\")\n",
        "\n",
        "cm_test = confusion_matrix(y_test, y_pred_test)\n",
        "plt.figure(figsize = (4, 2))\n",
        "sns.heatmap(cm_test, annot = True, fmt = 'd', cmap = 'Blues',\n",
        "            xticklabels = ['Predicted 0', 'Predicted 1'],\n",
        "            yticklabels = ['Actual 0', 'Actual 1'])\n",
        "plt.title('Confusion Matrix - Test Set')\n",
        "plt.xlabel('Predicted Label')\n",
        "plt.ylabel('Actual Label')\n",
        "plt.show()"
      ],
      "metadata": {
        "colab": {
          "base_uri": "https://localhost:8080/",
          "height": 426
        },
        "id": "YlKLU9HmansS",
        "outputId": "ec8c8982-aecc-4322-9cc3-c3866a7df61e"
      },
      "execution_count": null,
      "outputs": [
        {
          "output_type": "stream",
          "name": "stdout",
          "text": [
            "\n",
            "Evaluating trained model using optimal probability threshold\n",
            "\n",
            "Training set performance\n",
            "Training Accuracy: 0.8614\n",
            "Training F1 Score: 0.8096\n",
            "\n",
            "Test set performance\n",
            "Test Accuracy: 0.8360\n",
            "Test F1 Macro: 0.7764\n"
          ]
        },
        {
          "output_type": "display_data",
          "data": {
            "text/plain": [
              "<Figure size 400x200 with 2 Axes>"
            ],
            "image/png": "[encoded data removed]"
          },
          "metadata": {}
        }
      ]
    }
  ],
  "metadata": {
    "colab": {
      "provenance": []
    },
    "kernelspec": {
      "display_name": "Python 3",
      "name": "python3"
    },
    "language_info": {
      "name": "python"
    }
  },
  "nbformat": 4,
  "nbformat_minor": 0
}